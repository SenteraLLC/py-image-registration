{
 "cells": [
  {
   "cell_type": "markdown",
   "metadata": {},
   "source": [
    "# Multi-Spectral Registration\n",
    "\n",
    "Copyright (c) 2020, Kostas Alexis, Frank Mascarich, University of Nevada, Reno.\n",
    "\n",
    "All rights reserved.\n",
    "\n",
    "This is an IPython Notebook demonstrating usage of the multispectral registration package."
   ]
  },
  {
   "cell_type": "code",
   "execution_count": null,
   "metadata": {
    "tags": []
   },
   "outputs": [],
   "source": [
    "%matplotlib inline\n",
    "import time\n",
    "from multi_spect_tools import multi_spect_common\n",
    "from multi_spect_tools import multi_spect_image_io\n",
    "from multi_spect_tools import multi_spect_plotting_utils\n",
    "from multi_spect_tools import sitk_multi_spect_registration"
   ]
  },
  {
   "cell_type": "markdown",
   "metadata": {},
   "source": [
    "## Create Registration Object\n",
    "First, we will create a registration object, passing it a path to a configuration file."
   ]
  },
  {
   "cell_type": "code",
   "execution_count": null,
   "metadata": {
    "tags": []
   },
   "outputs": [],
   "source": [
    "# Create a registration object\n",
    "sitk_reg_obj = sitk_multi_spect_registration.sitk_registration(\"cfg/reg_config.ini\")"
   ]
  },
  {
   "cell_type": "markdown",
   "metadata": {},
   "source": [
    "## Load an image from the dataset\n",
    "Next, we will load an image from the dataset listed in the configuration file. If the configuration file does not list a dataset, this snippet will fail. Image paths are indexed by their ID, interpretted by their file name. For more information, please see the README section on dataset processing. Note that the paths for dataset processing are not required for image alignment; images may be loaded independently, and simply fed to the alignment function demonstrated in the next code block."
   ]
  },
  {
   "cell_type": "code",
   "execution_count": null,
   "metadata": {
    "tags": []
   },
   "outputs": [],
   "source": [
    "# Choose an image to load\n",
    "img_id = 28\n",
    "# Load the paths to this image\n",
    "image_paths = sitk_reg_obj.config.get_img_paths(img_id)\n",
    "# Load the image\n",
    "input_image = multi_spect_image_io.load_image_from_path_list(image_paths)\n",
    "# Display the image\n",
    "multi_spect_plotting_utils.show_multi_ch_image(input_image, sitk_reg_obj.config.ordered_channel_names)"
   ]
  },
  {
   "cell_type": "markdown",
   "metadata": {},
   "source": [
    "## Run Alignment\n",
    "Next, we will run the alignment of the loaded image by calling the _align_ function. We pass the input image, and receive the aligned output image, as well as a results object. The results object includes a number of metrics regarding the alignment, as well as the transformation objects applied to retrieve the aligned image. This transformation will be used in subsequent cells as the initial transform for the next image's alignment. "
   ]
  },
  {
   "cell_type": "code",
   "execution_count": null,
   "metadata": {
    "tags": []
   },
   "outputs": [],
   "source": [
    "output_image, results  = sitk_reg_obj.align(input_image,init_transforms=None, print_output=True)"
   ]
  },
  {
   "cell_type": "markdown",
   "metadata": {},
   "source": [
    "## Show the Aligned Image\n",
    "Here we use the plotting utility's function _show_merged_ to display the aligned image. \n",
    "The function will plot the image as well as rectangles showing the relative position of each channel.\n",
    "\n",
    "The function takes:\n",
    "\n",
    " 1. The aligned image\n",
    " 2. The indicies of the desired RGB channels\n",
    " 3. A channel to mix with the RGB\n",
    " 4. The corner points of each of the aligned channels\n",
    " 5. The color of each box to draw\n",
    "\n",
    "In the line below, the red channel is given to exist at the 2nd index of the image, the green at the 1st, and the blue at the 0th. These three channels will be blended (averaged) with the 3rd channel, which in this case is NIR. "
   ]
  },
  {
   "cell_type": "code",
   "execution_count": null,
   "metadata": {
    "tags": []
   },
   "outputs": [],
   "source": [
    "frame_colors = {'Red':'r', 'Blue':'b', 'Green':'g', 'NIR':'m'}\n",
    "multi_spect_plotting_utils.show_merged(output_image, [2,1,0], blend_ch=3, image_bounds=results.corner_points, colors=frame_colors)"
   ]
  },
  {
   "cell_type": "markdown",
   "metadata": {},
   "source": [
    "## Show Convergence Metrics for Each Channel\n",
    "Below, we plot the convergence values per iteration for each channel. "
   ]
  },
  {
   "cell_type": "code",
   "execution_count": null,
   "metadata": {},
   "outputs": [],
   "source": [
    "multi_spect_plotting_utils.plot_metric_vals(results.metric_logs, ['b', 'g', 'r'], sitk_reg_obj.config.moving_channel_names, 3)"
   ]
  },
  {
   "cell_type": "markdown",
   "metadata": {},
   "source": [
    "## Load a 2nd Image\n",
    "To demonstrate the process of providing an initial transform, we will load and display a 2nd image."
   ]
  },
  {
   "cell_type": "code",
   "execution_count": null,
   "metadata": {},
   "outputs": [],
   "source": [
    "# Choose an image to load\n",
    "img_id = 24\n",
    "# Load the paths to this image\n",
    "image_paths = sitk_reg_obj.config.get_img_paths(img_id)\n",
    "# Load the image\n",
    "input_image = multi_spect_image_io.load_image_from_path_list(image_paths)"
   ]
  },
  {
   "cell_type": "markdown",
   "metadata": {},
   "source": [
    "## Align the image, using the previous result's transformation\n",
    "Here we use the *results* object to acquire the previous alignment's final transform and feed it to the alignment of the next image."
   ]
  },
  {
   "cell_type": "code",
   "execution_count": null,
   "metadata": {
    "tags": []
   },
   "outputs": [],
   "source": [
    "output_image, results  = sitk_reg_obj.align(input_image, init_transforms=results.alignment_transform, print_output=True)"
   ]
  },
  {
   "cell_type": "markdown",
   "metadata": {},
   "source": [
    "## Show the Aligned Image"
   ]
  },
  {
   "cell_type": "code",
   "execution_count": null,
   "metadata": {},
   "outputs": [],
   "source": [
    "multi_spect_plotting_utils.show_merged(output_image, [2,1,0], 3, results.corner_points, frame_colors)"
   ]
  }
 ],
 "metadata": {
  "kernelspec": {
   "display_name": "Python 3",
   "language": "python",
   "name": "python3"
  },
  "language_info": {
   "codemirror_mode": {
    "name": "ipython",
    "version": 3
   },
   "file_extension": ".py",
   "mimetype": "text/x-python",
   "name": "python",
   "nbconvert_exporter": "python",
   "pygments_lexer": "ipython3",
   "version": "3.5.2-final"
  }
 },
 "nbformat": 4,
 "nbformat_minor": 2
}