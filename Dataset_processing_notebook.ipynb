{
 "cells": [
  {
   "cell_type": "markdown",
   "metadata": {},
   "source": [
    "# Simple Dataset Processing\n",
    "\n",
    "Copyright (c) 2020, Kostas Alexis, Frank Mascarich, University of Nevada, Reno.\n",
    "\n",
    "All rights reserved.\n",
    "\n",
    "\n",
    "This notebook demonstrates functionality concerned with dataset processing.\n"
   ]
  },
  {
   "cell_type": "code",
   "execution_count": 1,
   "metadata": {},
   "outputs": [],
   "source": [
    "from multi_spect_tools import multi_spect_dataset_handling"
   ]
  },
  {
   "cell_type": "code",
   "execution_count": 2,
   "metadata": {
    "tags": []
   },
   "outputs": [
    {
     "name": "stdout",
     "output_type": "stream",
     "text": [
      "Valid Image IDs from dataset: \n",
      " [13, 14, 15, 16, 17, 18, 19, 20, 21, 22, 23, 24, 25, 26, 27, 28, 29, 30, 31, 32, 33, 34, 35, 36, 37, 38, 39, 40, 41, 42, 43, 44, 45, 46, 47, 48, 49, 50, 51, 52, 53, 54, 55, 56, 57, 58, 59, 60, 61, 62, 63, 64, 65, 66, 67, 68, 69, 70, 71, 72, 73, 74, 75, 76, 77, 78, 79, 80, 81, 82, 83, 84, 85, 86, 87, 88, 89, 90, 91, 92, 93, 94, 95, 96, 97, 98, 99, 100, 101, 102, 103, 104, 105, 106, 107, 108, 109, 110, 111, 112, 113, 114, 115, 116, 117, 118, 119, 120, 121, 122, 123, 124, 125, 126, 127, 128, 129, 130, 131, 132, 133, 134, 135, 137, 138, 139, 140, 141, 142, 143, 144, 145, 146, 147, 148, 149, 150, 151, 152, 153, 154, 155, 156, 157, 158, 159, 160, 161, 162, 163, 164, 165, 166, 167, 168, 169, 170, 171, 172, 173, 174, 175, 176, 177, 178, 179, 180, 181, 182, 183, 184, 185, 186, 187, 188, 189, 190, 191, 192, 193, 194, 195, 196, 197, 198, 199, 200, 201, 202, 203, 204, 205, 206, 207, 208, 209, 210, 211, 212, 213, 214, 215, 216, 217, 218, 219, 220, 221, 222, 223, 224, 225, 226, 227, 228, 229, 230, 231, 232, 233, 234, 235, 236, 237, 238, 239, 240, 241, 243, 244, 245, 246, 247, 248, 249, 250, 251]\n"
     ]
    }
   ],
   "source": [
    "dataset_handler = multi_spect_dataset_handling.data_set_handler(\"cfg/reg_config-6x-noRE.ini\")"
   ]
  },
  {
   "cell_type": "code",
   "execution_count": null,
   "metadata": {
    "tags": []
   },
   "outputs": [
    {
     "name": "stdout",
     "output_type": "stream",
     "text": [
      "Aligning image ID: 13\n",
      "Fixed channel :  NIR , at index :  2\n",
      "Processing channel :  Green , at index :  0\n",
      "Channel Green Alignment Complete\n",
      "\tOptimizer Stop Cond :  OnePlusOneEvolutionaryOptimizerv4: Fnorm (0.23858) is less than Epsilon (0.25 at iteration #57\n",
      "\tOptimizer Stop Iter :  57\n",
      "\tOptimizer Metric Val :  -0.726033406795824\n",
      "Channel Align took :  4.625624179840088\n",
      "-------------------------------------------------\n",
      "Processing channel :  Red , at index :  1\n",
      "Channel Red Alignment Complete\n",
      "\tOptimizer Stop Cond :  OnePlusOneEvolutionaryOptimizerv4: Maximum number of iterations (150) exceeded. \n",
      "\tOptimizer Stop Iter :  150\n",
      "\tOptimizer Metric Val :  -1.0717102000242653\n",
      "Channel Align took :  9.574074506759644\n",
      "-------------------------------------------------\n",
      "Alignment Complete\n",
      "Successul Alignment, saving result\n",
      "(1428, 1904, 3)\n",
      "Updating initial transform from previous result\n",
      "Aligning image ID: 14\n",
      "Fixed channel :  NIR , at index :  2\n",
      "Processing channel :  Green , at index :  0\n",
      "Channel Green Alignment Complete\n",
      "\tOptimizer Stop Cond :  OnePlusOneEvolutionaryOptimizerv4: Fnorm (0.237181) is less than Epsilon (0.25 at iteration #52\n",
      "\tOptimizer Stop Iter :  52\n",
      "\tOptimizer Metric Val :  -0.6826439506667004\n",
      "Channel Align took :  5.132756471633911\n",
      "-------------------------------------------------\n",
      "Processing channel :  Red , at index :  1\n"
     ]
    },
    {
     "ename": "KeyboardInterrupt",
     "evalue": "",
     "output_type": "error",
     "traceback": [
      "\u001b[1;31m---------------------------------------------------------------------------\u001b[0m",
      "\u001b[1;31mKeyboardInterrupt\u001b[0m                         Traceback (most recent call last)",
      "\u001b[1;32m~\\Documents\\Sentera\\Github\\py-image-registration\\multi_spect_tools\\sitk_multi_spect_registration.py\u001b[0m in \u001b[0;36m_multi_res_update\u001b[1;34m(self)\u001b[0m\n\u001b[0;32m    236\u001b[0m \u001b[1;33m\u001b[0m\u001b[0m\n\u001b[0;32m    237\u001b[0m         \u001b[1;31m# optimizer iteration callback\u001b[0m\u001b[1;33m\u001b[0m\u001b[1;33m\u001b[0m\u001b[1;33m\u001b[0m\u001b[0m\n\u001b[1;32m--> 238\u001b[1;33m         \u001b[1;32mdef\u001b[0m \u001b[0m_multi_res_update\u001b[0m\u001b[1;33m(\u001b[0m\u001b[0mself\u001b[0m\u001b[1;33m)\u001b[0m\u001b[1;33m:\u001b[0m\u001b[1;33m\u001b[0m\u001b[1;33m\u001b[0m\u001b[0m\n\u001b[0m\u001b[0;32m    239\u001b[0m                 \u001b[1;32mif\u001b[0m \u001b[0mself\u001b[0m\u001b[1;33m.\u001b[0m\u001b[0mreg_method\u001b[0m \u001b[1;32mis\u001b[0m \u001b[1;32mnot\u001b[0m \u001b[1;32mNone\u001b[0m\u001b[1;33m:\u001b[0m\u001b[1;33m\u001b[0m\u001b[1;33m\u001b[0m\u001b[0m\n\u001b[0;32m    240\u001b[0m                         \u001b[0mopt_it\u001b[0m \u001b[1;33m=\u001b[0m \u001b[0mself\u001b[0m\u001b[1;33m.\u001b[0m\u001b[0mreg_method\u001b[0m\u001b[1;33m.\u001b[0m\u001b[0mGetOptimizerIteration\u001b[0m\u001b[1;33m(\u001b[0m\u001b[1;33m)\u001b[0m\u001b[1;33m\u001b[0m\u001b[1;33m\u001b[0m\u001b[0m\n",
      "\u001b[1;31mKeyboardInterrupt\u001b[0m: "
     ]
    },
    {
     "name": "stdout",
     "output_type": "stream",
     "text": [
      "Failed Channel Alignment Attempt # 1  of  12\n"
     ]
    }
   ],
   "source": [
    "dataset_handler.process_all_images(use_init_transform=True, update_from_previous=True, blend_channel=-1)"
   ]
  },
  {
   "cell_type": "code",
   "execution_count": null,
   "metadata": {},
   "outputs": [],
   "source": []
  }
 ],
 "metadata": {
  "kernelspec": {
   "display_name": "Python 3",
   "language": "python",
   "name": "python3"
  },
  "language_info": {
   "codemirror_mode": {
    "name": "ipython",
    "version": 3
   },
   "file_extension": ".py",
   "mimetype": "text/x-python",
   "name": "python",
   "nbconvert_exporter": "python",
   "pygments_lexer": "ipython3",
   "version": "3.7.8"
  }
 },
 "nbformat": 4,
 "nbformat_minor": 2
}
