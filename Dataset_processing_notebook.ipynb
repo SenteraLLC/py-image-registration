{
 "cells": [
  {
   "cell_type": "markdown",
   "metadata": {},
   "source": [
    "# Simple Dataset Processing\n",
    "\n",
    "Copyright (c) 2020, Kostas Alexis, Frank Mascarich, University of Nevada, Reno.\n",
    "\n",
    "All rights reserved.\n",
    "\n",
    "\n",
    "This notebook demonstrates functionality concerned with dataset processing.\n"
   ]
  },
  {
   "cell_type": "code",
   "execution_count": null,
   "metadata": {},
   "outputs": [],
   "source": [
    "from multi_spect_tools import multi_spect_dataset_handling"
   ]
  },
  {
   "cell_type": "code",
   "execution_count": null,
   "metadata": {
    "tags": []
   },
   "outputs": [],
   "source": [
    "dataset_handler = multi_spect_dataset_handling.DataSetHandler(\"cfg/reg_config.ini\")"
   ]
  },
  {
   "cell_type": "code",
   "execution_count": null,
   "metadata": {
    "tags": []
   },
   "outputs": [],
   "source": [
    "dataset_handler.process_all_images(use_init_transform=True, update_from_previous=True)"
   ]
  }
 ],
 "metadata": {
  "kernelspec": {
   "display_name": "Python 3",
   "language": "python",
   "name": "python3"
  },
  "language_info": {
   "codemirror_mode": {
    "name": "ipython",
    "version": 3
   },
   "file_extension": ".py",
   "mimetype": "text/x-python",
   "name": "python",
   "nbconvert_exporter": "python",
   "pygments_lexer": "ipython3",
   "version": "3.5.2-final"
  }
 },
 "nbformat": 4,
 "nbformat_minor": 2
}